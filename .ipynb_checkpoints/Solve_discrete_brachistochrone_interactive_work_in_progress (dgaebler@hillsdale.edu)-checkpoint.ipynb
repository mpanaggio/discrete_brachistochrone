{
 "cells": [
  {
   "cell_type": "code",
   "execution_count": 1,
   "metadata": {},
   "outputs": [],
   "source": [
    "import numpy as np\n",
    "import matplotlib.pyplot as plt\n",
    "import os\n",
    "from brachistochrone_files import *\n",
    "np.set_printoptions(precision=6, suppress=True) \n",
    "from matplotlib.widgets import Slider, Button, RadioButtons\n",
    "from ipywidgets import IntSlider,FloatSlider,interact\n",
    "import pandas as pd"
   ]
  },
  {
   "cell_type": "markdown",
   "metadata": {},
   "source": [
    "# Define solution parameters"
   ]
  },
  {
   "cell_type": "code",
   "execution_count": 2,
   "metadata": {},
   "outputs": [],
   "source": [
    "# make sure to run: conda install nodejs"
   ]
  },
  {
   "cell_type": "code",
   "execution_count": 3,
   "metadata": {},
   "outputs": [],
   "source": [
    "a=10 # x-coordinate for endpoint\n",
    "b=-1  # y-coordinate for endpoint\n",
    "N=4 # number of segments"
   ]
  },
  {
   "cell_type": "code",
   "execution_count": 4,
   "metadata": {},
   "outputs": [],
   "source": [
    "def angles_with_previous(x,y):\n",
    "    angles=[]\n",
    "    for k in range(1,len(x)-1):\n",
    "        vec_prev=np.array([x[k-1]-x[k],y[k-1]-y[k]])\n",
    "        vec_next=np.array([x[k+1]-x[k],y[k+1]-y[k]])\n",
    "        vec_prev=vec_prev/np.norm(vec_prev)\n",
    "        vec_next=vec_next/np.norm(vec_next)\n",
    "        angles.append(np.arccos(np.dot(vec_prev,vec_next)))\n",
    "    return angles"
   ]
  },
  {
   "cell_type": "code",
   "execution_count": 1,
   "metadata": {
    "scrolled": false
   },
   "outputs": [
    {
     "ename": "SyntaxError",
     "evalue": "invalid syntax (<ipython-input-1-f780bcc510f1>, line 64)",
     "output_type": "error",
     "traceback": [
      "\u001b[1;36m  File \u001b[1;32m\"<ipython-input-1-f780bcc510f1>\"\u001b[1;36m, line \u001b[1;32m64\u001b[0m\n\u001b[1;33m    display(res)\u001b[0m\n\u001b[1;37m          ^\u001b[0m\n\u001b[1;31mSyntaxError\u001b[0m\u001b[1;31m:\u001b[0m invalid syntax\n"
     ]
    }
   ],
   "source": [
    "%matplotlib notebook\n",
    "import matplotlib.pyplot as plt\n",
    "\n",
    "fig, ax = plt.subplots()\n",
    "plt.subplots_adjust(left=0.25, bottom=0.3)\n",
    "\n",
    "x,y=compute_optimal_path(a,b,N)\n",
    "\n",
    "theta_end,r=get_optimal_cycloid(a,b)\n",
    "theta=np.linspace(0,theta_end)\n",
    "x_cyc=r*(theta-np.sin(theta))\n",
    "y_cyc=-r*(1-np.cos(theta))\n",
    "\n",
    "\n",
    "l1,=plt.plot([0,a],[0,0],'--k')\n",
    "l2,=plt.plot(x,y,'.b')\n",
    "l3,=plt.plot(x,y,'-b')\n",
    "l4,=plt.plot(x_cyc,y_cyc,'r')\n",
    "plt.scatter(0,0,c='k')\n",
    "l5,=plt.plot(a,b,'.k')\n",
    "\n",
    "\n",
    "def update(a=FloatSlider(description='a', step=0.1, min=0,max=10.0,value=10),\n",
    "           b=FloatSlider(description='b', step=0.1, min=-10,max=0, value=-1),\n",
    "           N= IntSlider(description='N', step=1, min=1,max=20,value=2)):\n",
    "    x,y=compute_optimal_path(a,b,N)\n",
    "\n",
    "    theta_end,r=get_optimal_cycloid(a,b)\n",
    "    theta=np.linspace(0,theta_end)\n",
    "    x_cyc=r*(theta-np.sin(theta))\n",
    "    y_cyc=-r*(1-np.cos(theta))\n",
    "\n",
    "\n",
    "    l1.set_xdata([0,a])\n",
    "    l1.set_ydata([0,0])\n",
    "    l2.set_xdata(x)\n",
    "    l2.set_ydata(y)\n",
    "    l3.set_xdata(x)\n",
    "    l3.set_ydata(y)\n",
    "    l4.set_xdata(x_cyc)\n",
    "    l4.set_ydata(y_cyc)\n",
    "    \n",
    "    l5.set_xdata(a)\n",
    "    l5.set_ydata(b)\n",
    "    ax.set_xlim(x.min()-1,x.max()+1)\n",
    "    ax.set_ylim(y.min()-1,y.max()+1)\n",
    "    #print(\"Travel Times:\",travel_times(x,y))\n",
    "    #print(\"x-coordinates:\",x)\n",
    "    #print(\"y-coordinates:\",y)\n",
    "    res=pd.DataFrame()\n",
    "    res['initial x']=x[:-1]\n",
    "    res['initial y']=y[:-1]\n",
    "    res['final x']=x[1:]\n",
    "    res['final y']=y[1:]\n",
    "    res['initial velocity']=np.sqrt(-2*9.8*y[:-1])\n",
    "    res['final velocity']=np.sqrt(-2*9.8*y[1:])\n",
    "    res['time-averaged velocity']=(res['initial velocity']+res['final velocity'])/2\n",
    "    res['travel time']=travel_times(x,y)\n",
    "    res['length']=np.sqrt(np.diff(x)**2+np.diff(y)**2)\n",
    "    res['angle from vertical (deg)']=np.arctan(np.diff(x)/np.diff(y))*180/np.pi\n",
    "    \n",
    "    angle_w_prev = lambda x,y,k: np.arcos(np.array([x[k-1]-x[k],y[k-1]-y[k]])\n",
    "    res['angle with previous side (deg)']=np\n",
    "    display(res)\n",
    "    fig.canvas.draw_idle()\n",
    "    \n",
    "interact(update)\n",
    "plt.show()"
   ]
  },
  {
   "cell_type": "markdown",
   "metadata": {},
   "source": [
    "# Compare travel times"
   ]
  },
  {
   "cell_type": "code",
   "execution_count": null,
   "metadata": {},
   "outputs": [],
   "source": [
    "print(travel_times(x,y))"
   ]
  },
  {
   "cell_type": "code",
   "execution_count": null,
   "metadata": {},
   "outputs": [],
   "source": []
  }
 ],
 "metadata": {
  "kernelspec": {
   "display_name": "Python 3",
   "language": "python",
   "name": "python3"
  },
  "language_info": {
   "codemirror_mode": {
    "name": "ipython",
    "version": 3
   },
   "file_extension": ".py",
   "mimetype": "text/x-python",
   "name": "python",
   "nbconvert_exporter": "python",
   "pygments_lexer": "ipython3",
   "version": "3.6.6"
  }
 },
 "nbformat": 4,
 "nbformat_minor": 2
}
